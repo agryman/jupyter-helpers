{
 "cells": [
  {
   "cell_type": "markdown",
   "id": "4736bc82-63b7-4a62-83aa-a1f7ae9fc898",
   "metadata": {},
   "source": [
    "# Python Listing Demo\n",
    "\n",
    "*Arthur Ryman, last updated 2025-01-01*"
   ]
  },
  {
   "cell_type": "markdown",
   "id": "0657189b-d35c-4946-9aa7-a87dae0b1823",
   "metadata": {},
   "source": [
    "## Introduction\n",
    "\n",
    "This notebook demostrates how to list Python code objects in a Jupyter notebook.\n",
    "It uses the [rich](https://github.com/Textualize/rich) package.\n",
    "\n",
    "Install this package in your Python environment using the following command:\n",
    "\n",
    "```shell\n",
    "pip install git+https://github.com/agryman/jupyter-helpers.git\n",
    "```"
   ]
  },
  {
   "cell_type": "markdown",
   "id": "1c1ae641-715d-47b4-921a-5a966da92046",
   "metadata": {},
   "source": [
    "## Import the `lst` Function\n",
    "\n",
    "Import the `lst` function from the `list_python` module of `listings` package in the `agryman/jupyter-helpers` GitHub project."
   ]
  },
  {
   "cell_type": "code",
   "execution_count": 1,
   "id": "bacd011d-5203-4331-bfb9-950d5175c058",
   "metadata": {},
   "outputs": [],
   "source": [
    "from listings.list_python import lst"
   ]
  },
  {
   "cell_type": "markdown",
   "id": "2d451575-23d5-43cc-9863-938a75889b1c",
   "metadata": {},
   "source": [
    "## Listing a Function\n",
    "\n",
    "Then simply apply the `lst` function to the code object that you want to list. Here I use the function `lst` to list itself."
   ]
  },
  {
   "cell_type": "code",
   "execution_count": 2,
   "id": "c1d80b9e-cd24-4fdd-a1bb-6b7340b63b05",
   "metadata": {},
   "outputs": [
    {
     "data": {
      "text/html": [
       "<pre style=\"white-space:pre;overflow-x:auto;line-height:normal;font-family:Menlo,'DejaVu Sans Mono',consolas,'Courier New',monospace\"><span style=\"color: #181818; text-decoration-color: #181818; background-color: #f8f8f8; font-weight: bold\">  </span><span style=\"color: #adadad; text-decoration-color: #adadad; background-color: #f8f8f8\">1 </span><span style=\"color: #008000; text-decoration-color: #008000; background-color: #f8f8f8; font-weight: bold\">def</span><span style=\"color: #000000; text-decoration-color: #000000; background-color: #f8f8f8\"> </span><span style=\"color: #0000ff; text-decoration-color: #0000ff; background-color: #f8f8f8\">lst</span><span style=\"color: #000000; text-decoration-color: #000000; background-color: #f8f8f8\">(name, lexer</span><span style=\"color: #666666; text-decoration-color: #666666; background-color: #f8f8f8\">=</span><span style=\"color: #ba2121; text-decoration-color: #ba2121; background-color: #f8f8f8\">'python'</span><span style=\"color: #000000; text-decoration-color: #000000; background-color: #f8f8f8\">, theme</span><span style=\"color: #666666; text-decoration-color: #666666; background-color: #f8f8f8\">=</span><span style=\"color: #ba2121; text-decoration-color: #ba2121; background-color: #f8f8f8\">'default'</span><span style=\"color: #000000; text-decoration-color: #000000; background-color: #f8f8f8\">, line_numbers</span><span style=\"color: #666666; text-decoration-color: #666666; background-color: #f8f8f8\">=</span><span style=\"color: #008000; text-decoration-color: #008000; background-color: #f8f8f8; font-weight: bold\">True</span><span style=\"color: #000000; text-decoration-color: #000000; background-color: #f8f8f8\">) </span><span style=\"color: #666666; text-decoration-color: #666666; background-color: #f8f8f8\">-&gt;</span><span style=\"color: #000000; text-decoration-color: #000000; background-color: #f8f8f8\"> </span><span style=\"color: #008000; text-decoration-color: #008000; background-color: #f8f8f8; font-weight: bold\">None</span><span style=\"color: #000000; text-decoration-color: #000000; background-color: #f8f8f8\">:</span><span style=\"background-color: #f8f8f8\">                                     </span>\n",
       "<span style=\"color: #181818; text-decoration-color: #181818; background-color: #f8f8f8; font-weight: bold\">  </span><span style=\"color: #adadad; text-decoration-color: #adadad; background-color: #f8f8f8\">2 </span><span style=\"color: #bbbbbb; text-decoration-color: #bbbbbb; background-color: #f8f8f8\">    </span><span style=\"color: #ba2121; text-decoration-color: #ba2121; background-color: #f8f8f8; font-style: italic\">\"\"\"Print a source code listing for the named Python object.\"\"\"</span><span style=\"background-color: #f8f8f8\">                                             </span>\n",
       "<span style=\"color: #181818; text-decoration-color: #181818; background-color: #f8f8f8; font-weight: bold\">  </span><span style=\"color: #adadad; text-decoration-color: #adadad; background-color: #f8f8f8\">3 </span><span style=\"background-color: #f8f8f8\">                                                                                                               </span>\n",
       "<span style=\"color: #181818; text-decoration-color: #181818; background-color: #f8f8f8; font-weight: bold\">  </span><span style=\"color: #adadad; text-decoration-color: #adadad; background-color: #f8f8f8\">4 </span><span style=\"color: #000000; text-decoration-color: #000000; background-color: #f8f8f8\">    code </span><span style=\"color: #666666; text-decoration-color: #666666; background-color: #f8f8f8\">=</span><span style=\"color: #000000; text-decoration-color: #000000; background-color: #f8f8f8\"> inspect</span><span style=\"color: #666666; text-decoration-color: #666666; background-color: #f8f8f8\">.</span><span style=\"color: #000000; text-decoration-color: #000000; background-color: #f8f8f8\">getsource(name)</span><span style=\"background-color: #f8f8f8\">                                                                             </span>\n",
       "<span style=\"color: #181818; text-decoration-color: #181818; background-color: #f8f8f8; font-weight: bold\">  </span><span style=\"color: #adadad; text-decoration-color: #adadad; background-color: #f8f8f8\">5 </span><span style=\"color: #000000; text-decoration-color: #000000; background-color: #f8f8f8\">    syntax </span><span style=\"color: #666666; text-decoration-color: #666666; background-color: #f8f8f8\">=</span><span style=\"color: #000000; text-decoration-color: #000000; background-color: #f8f8f8\"> Syntax(code, lexer</span><span style=\"color: #666666; text-decoration-color: #666666; background-color: #f8f8f8\">=</span><span style=\"color: #000000; text-decoration-color: #000000; background-color: #f8f8f8\">lexer, theme</span><span style=\"color: #666666; text-decoration-color: #666666; background-color: #f8f8f8\">=</span><span style=\"color: #000000; text-decoration-color: #000000; background-color: #f8f8f8\">theme, line_numbers</span><span style=\"color: #666666; text-decoration-color: #666666; background-color: #f8f8f8\">=</span><span style=\"color: #000000; text-decoration-color: #000000; background-color: #f8f8f8\">line_numbers)</span><span style=\"background-color: #f8f8f8\">                                 </span>\n",
       "<span style=\"color: #181818; text-decoration-color: #181818; background-color: #f8f8f8; font-weight: bold\">  </span><span style=\"color: #adadad; text-decoration-color: #adadad; background-color: #f8f8f8\">6 </span><span style=\"color: #000000; text-decoration-color: #000000; background-color: #f8f8f8\">    console </span><span style=\"color: #666666; text-decoration-color: #666666; background-color: #f8f8f8\">=</span><span style=\"color: #000000; text-decoration-color: #000000; background-color: #f8f8f8\"> Console()</span><span style=\"background-color: #f8f8f8\">                                                                                        </span>\n",
       "<span style=\"color: #181818; text-decoration-color: #181818; background-color: #f8f8f8; font-weight: bold\">  </span><span style=\"color: #adadad; text-decoration-color: #adadad; background-color: #f8f8f8\">7 </span><span style=\"color: #000000; text-decoration-color: #000000; background-color: #f8f8f8\">    console</span><span style=\"color: #666666; text-decoration-color: #666666; background-color: #f8f8f8\">.</span><span style=\"color: #000000; text-decoration-color: #000000; background-color: #f8f8f8\">print(syntax)</span><span style=\"background-color: #f8f8f8\">                                                                                      </span>\n",
       "<span style=\"color: #181818; text-decoration-color: #181818; background-color: #f8f8f8; font-weight: bold\">  </span><span style=\"color: #adadad; text-decoration-color: #adadad; background-color: #f8f8f8\">8 </span><span style=\"background-color: #f8f8f8\">                                                                                                               </span>\n",
       "</pre>\n"
      ],
      "text/plain": [
       "\u001b[1;38;2;24;24;24;48;2;248;248;248m  \u001b[0m\u001b[38;2;173;173;173;48;2;248;248;248m1 \u001b[0m\u001b[1;38;2;0;128;0;48;2;248;248;248mdef\u001b[0m\u001b[38;2;0;0;0;48;2;248;248;248m \u001b[0m\u001b[38;2;0;0;255;48;2;248;248;248mlst\u001b[0m\u001b[38;2;0;0;0;48;2;248;248;248m(\u001b[0m\u001b[38;2;0;0;0;48;2;248;248;248mname\u001b[0m\u001b[38;2;0;0;0;48;2;248;248;248m,\u001b[0m\u001b[38;2;0;0;0;48;2;248;248;248m \u001b[0m\u001b[38;2;0;0;0;48;2;248;248;248mlexer\u001b[0m\u001b[38;2;102;102;102;48;2;248;248;248m=\u001b[0m\u001b[38;2;186;33;33;48;2;248;248;248m'\u001b[0m\u001b[38;2;186;33;33;48;2;248;248;248mpython\u001b[0m\u001b[38;2;186;33;33;48;2;248;248;248m'\u001b[0m\u001b[38;2;0;0;0;48;2;248;248;248m,\u001b[0m\u001b[38;2;0;0;0;48;2;248;248;248m \u001b[0m\u001b[38;2;0;0;0;48;2;248;248;248mtheme\u001b[0m\u001b[38;2;102;102;102;48;2;248;248;248m=\u001b[0m\u001b[38;2;186;33;33;48;2;248;248;248m'\u001b[0m\u001b[38;2;186;33;33;48;2;248;248;248mdefault\u001b[0m\u001b[38;2;186;33;33;48;2;248;248;248m'\u001b[0m\u001b[38;2;0;0;0;48;2;248;248;248m,\u001b[0m\u001b[38;2;0;0;0;48;2;248;248;248m \u001b[0m\u001b[38;2;0;0;0;48;2;248;248;248mline_numbers\u001b[0m\u001b[38;2;102;102;102;48;2;248;248;248m=\u001b[0m\u001b[1;38;2;0;128;0;48;2;248;248;248mTrue\u001b[0m\u001b[38;2;0;0;0;48;2;248;248;248m)\u001b[0m\u001b[38;2;0;0;0;48;2;248;248;248m \u001b[0m\u001b[38;2;102;102;102;48;2;248;248;248m-\u001b[0m\u001b[38;2;102;102;102;48;2;248;248;248m>\u001b[0m\u001b[38;2;0;0;0;48;2;248;248;248m \u001b[0m\u001b[1;38;2;0;128;0;48;2;248;248;248mNone\u001b[0m\u001b[38;2;0;0;0;48;2;248;248;248m:\u001b[0m\u001b[48;2;248;248;248m                                     \u001b[0m\n",
       "\u001b[1;38;2;24;24;24;48;2;248;248;248m  \u001b[0m\u001b[38;2;173;173;173;48;2;248;248;248m2 \u001b[0m\u001b[38;2;187;187;187;48;2;248;248;248m    \u001b[0m\u001b[3;38;2;186;33;33;48;2;248;248;248m\"\"\"Print a source code listing for the named Python object.\"\"\"\u001b[0m\u001b[48;2;248;248;248m                                             \u001b[0m\n",
       "\u001b[1;38;2;24;24;24;48;2;248;248;248m  \u001b[0m\u001b[38;2;173;173;173;48;2;248;248;248m3 \u001b[0m\u001b[48;2;248;248;248m                                                                                                               \u001b[0m\n",
       "\u001b[1;38;2;24;24;24;48;2;248;248;248m  \u001b[0m\u001b[38;2;173;173;173;48;2;248;248;248m4 \u001b[0m\u001b[38;2;0;0;0;48;2;248;248;248m    \u001b[0m\u001b[38;2;0;0;0;48;2;248;248;248mcode\u001b[0m\u001b[38;2;0;0;0;48;2;248;248;248m \u001b[0m\u001b[38;2;102;102;102;48;2;248;248;248m=\u001b[0m\u001b[38;2;0;0;0;48;2;248;248;248m \u001b[0m\u001b[38;2;0;0;0;48;2;248;248;248minspect\u001b[0m\u001b[38;2;102;102;102;48;2;248;248;248m.\u001b[0m\u001b[38;2;0;0;0;48;2;248;248;248mgetsource\u001b[0m\u001b[38;2;0;0;0;48;2;248;248;248m(\u001b[0m\u001b[38;2;0;0;0;48;2;248;248;248mname\u001b[0m\u001b[38;2;0;0;0;48;2;248;248;248m)\u001b[0m\u001b[48;2;248;248;248m                                                                             \u001b[0m\n",
       "\u001b[1;38;2;24;24;24;48;2;248;248;248m  \u001b[0m\u001b[38;2;173;173;173;48;2;248;248;248m5 \u001b[0m\u001b[38;2;0;0;0;48;2;248;248;248m    \u001b[0m\u001b[38;2;0;0;0;48;2;248;248;248msyntax\u001b[0m\u001b[38;2;0;0;0;48;2;248;248;248m \u001b[0m\u001b[38;2;102;102;102;48;2;248;248;248m=\u001b[0m\u001b[38;2;0;0;0;48;2;248;248;248m \u001b[0m\u001b[38;2;0;0;0;48;2;248;248;248mSyntax\u001b[0m\u001b[38;2;0;0;0;48;2;248;248;248m(\u001b[0m\u001b[38;2;0;0;0;48;2;248;248;248mcode\u001b[0m\u001b[38;2;0;0;0;48;2;248;248;248m,\u001b[0m\u001b[38;2;0;0;0;48;2;248;248;248m \u001b[0m\u001b[38;2;0;0;0;48;2;248;248;248mlexer\u001b[0m\u001b[38;2;102;102;102;48;2;248;248;248m=\u001b[0m\u001b[38;2;0;0;0;48;2;248;248;248mlexer\u001b[0m\u001b[38;2;0;0;0;48;2;248;248;248m,\u001b[0m\u001b[38;2;0;0;0;48;2;248;248;248m \u001b[0m\u001b[38;2;0;0;0;48;2;248;248;248mtheme\u001b[0m\u001b[38;2;102;102;102;48;2;248;248;248m=\u001b[0m\u001b[38;2;0;0;0;48;2;248;248;248mtheme\u001b[0m\u001b[38;2;0;0;0;48;2;248;248;248m,\u001b[0m\u001b[38;2;0;0;0;48;2;248;248;248m \u001b[0m\u001b[38;2;0;0;0;48;2;248;248;248mline_numbers\u001b[0m\u001b[38;2;102;102;102;48;2;248;248;248m=\u001b[0m\u001b[38;2;0;0;0;48;2;248;248;248mline_numbers\u001b[0m\u001b[38;2;0;0;0;48;2;248;248;248m)\u001b[0m\u001b[48;2;248;248;248m                                 \u001b[0m\n",
       "\u001b[1;38;2;24;24;24;48;2;248;248;248m  \u001b[0m\u001b[38;2;173;173;173;48;2;248;248;248m6 \u001b[0m\u001b[38;2;0;0;0;48;2;248;248;248m    \u001b[0m\u001b[38;2;0;0;0;48;2;248;248;248mconsole\u001b[0m\u001b[38;2;0;0;0;48;2;248;248;248m \u001b[0m\u001b[38;2;102;102;102;48;2;248;248;248m=\u001b[0m\u001b[38;2;0;0;0;48;2;248;248;248m \u001b[0m\u001b[38;2;0;0;0;48;2;248;248;248mConsole\u001b[0m\u001b[38;2;0;0;0;48;2;248;248;248m(\u001b[0m\u001b[38;2;0;0;0;48;2;248;248;248m)\u001b[0m\u001b[48;2;248;248;248m                                                                                        \u001b[0m\n",
       "\u001b[1;38;2;24;24;24;48;2;248;248;248m  \u001b[0m\u001b[38;2;173;173;173;48;2;248;248;248m7 \u001b[0m\u001b[38;2;0;0;0;48;2;248;248;248m    \u001b[0m\u001b[38;2;0;0;0;48;2;248;248;248mconsole\u001b[0m\u001b[38;2;102;102;102;48;2;248;248;248m.\u001b[0m\u001b[38;2;0;0;0;48;2;248;248;248mprint\u001b[0m\u001b[38;2;0;0;0;48;2;248;248;248m(\u001b[0m\u001b[38;2;0;0;0;48;2;248;248;248msyntax\u001b[0m\u001b[38;2;0;0;0;48;2;248;248;248m)\u001b[0m\u001b[48;2;248;248;248m                                                                                      \u001b[0m\n",
       "\u001b[1;38;2;24;24;24;48;2;248;248;248m  \u001b[0m\u001b[38;2;173;173;173;48;2;248;248;248m8 \u001b[0m\u001b[48;2;248;248;248m                                                                                                               \u001b[0m\n"
      ]
     },
     "metadata": {},
     "output_type": "display_data"
    }
   ],
   "source": [
    "lst(lst)"
   ]
  },
  {
   "cell_type": "markdown",
   "id": "d33039af-0490-4a3c-815e-139cfc1f8b52",
   "metadata": {},
   "source": [
    "## Listing a Package\n",
    "\n",
    "Import the package and assign it a name so it becomes a Python code object that we can refer to.\n",
    "Here I list the `listings` package."
   ]
  },
  {
   "cell_type": "code",
   "execution_count": 3,
   "id": "ef6a21c8-dd95-40bc-9900-26fa851425cd",
   "metadata": {},
   "outputs": [
    {
     "data": {
      "text/html": [
       "<pre style=\"white-space:pre;overflow-x:auto;line-height:normal;font-family:Menlo,'DejaVu Sans Mono',consolas,'Courier New',monospace\"><span style=\"color: #181818; text-decoration-color: #181818; background-color: #f8f8f8; font-weight: bold\">  </span><span style=\"color: #adadad; text-decoration-color: #adadad; background-color: #f8f8f8\">1 </span><span style=\"color: #ba2121; text-decoration-color: #ba2121; background-color: #f8f8f8; font-style: italic\">\"\"\"</span><span style=\"background-color: #f8f8f8\">                                                                                                            </span>\n",
       "<span style=\"color: #181818; text-decoration-color: #181818; background-color: #f8f8f8; font-weight: bold\">  </span><span style=\"color: #adadad; text-decoration-color: #adadad; background-color: #f8f8f8\">2 </span><span style=\"color: #ba2121; text-decoration-color: #ba2121; background-color: #f8f8f8; font-style: italic\">This package contains functions that list source code in Jupyter notebooks.</span><span style=\"background-color: #f8f8f8\">                                    </span>\n",
       "<span style=\"color: #181818; text-decoration-color: #181818; background-color: #f8f8f8; font-weight: bold\">  </span><span style=\"color: #adadad; text-decoration-color: #adadad; background-color: #f8f8f8\">3 </span><span style=\"color: #ba2121; text-decoration-color: #ba2121; background-color: #f8f8f8; font-style: italic\">\"\"\"</span><span style=\"background-color: #f8f8f8\">                                                                                                            </span>\n",
       "<span style=\"color: #181818; text-decoration-color: #181818; background-color: #f8f8f8; font-weight: bold\">  </span><span style=\"color: #adadad; text-decoration-color: #adadad; background-color: #f8f8f8\">4 </span><span style=\"background-color: #f8f8f8\">                                                                                                               </span>\n",
       "</pre>\n"
      ],
      "text/plain": [
       "\u001b[1;38;2;24;24;24;48;2;248;248;248m  \u001b[0m\u001b[38;2;173;173;173;48;2;248;248;248m1 \u001b[0m\u001b[3;38;2;186;33;33;48;2;248;248;248m\"\"\"\u001b[0m\u001b[48;2;248;248;248m                                                                                                            \u001b[0m\n",
       "\u001b[1;38;2;24;24;24;48;2;248;248;248m  \u001b[0m\u001b[38;2;173;173;173;48;2;248;248;248m2 \u001b[0m\u001b[3;38;2;186;33;33;48;2;248;248;248mThis package contains functions that list source code in Jupyter notebooks.\u001b[0m\u001b[48;2;248;248;248m                                    \u001b[0m\n",
       "\u001b[1;38;2;24;24;24;48;2;248;248;248m  \u001b[0m\u001b[38;2;173;173;173;48;2;248;248;248m3 \u001b[0m\u001b[3;38;2;186;33;33;48;2;248;248;248m\"\"\"\u001b[0m\u001b[48;2;248;248;248m                                                                                                            \u001b[0m\n",
       "\u001b[1;38;2;24;24;24;48;2;248;248;248m  \u001b[0m\u001b[38;2;173;173;173;48;2;248;248;248m4 \u001b[0m\u001b[48;2;248;248;248m                                                                                                               \u001b[0m\n"
      ]
     },
     "metadata": {},
     "output_type": "display_data"
    }
   ],
   "source": [
    "import listings as l\n",
    "\n",
    "lst(l)"
   ]
  },
  {
   "cell_type": "markdown",
   "id": "859c55c2-a25b-4bfd-88dc-1904b148135c",
   "metadata": {},
   "source": [
    "## Listing a Module\n",
    "\n",
    "The `lst` function can list any code object. \n",
    "Here I list the `list_python` module."
   ]
  },
  {
   "cell_type": "code",
   "execution_count": 4,
   "id": "b62e4dd1-9298-480f-9154-aa4486ee8580",
   "metadata": {},
   "outputs": [
    {
     "data": {
      "text/html": [
       "<pre style=\"white-space:pre;overflow-x:auto;line-height:normal;font-family:Menlo,'DejaVu Sans Mono',consolas,'Courier New',monospace\"><span style=\"color: #181818; text-decoration-color: #181818; background-color: #f8f8f8; font-weight: bold\">  </span><span style=\"color: #adadad; text-decoration-color: #adadad; background-color: #f8f8f8\"> 1 </span><span style=\"color: #ba2121; text-decoration-color: #ba2121; background-color: #f8f8f8; font-style: italic\">\"\"\"This module lists the source code for Python objects.\"\"\"</span><span style=\"background-color: #f8f8f8\">                                                   </span>\n",
       "<span style=\"color: #181818; text-decoration-color: #181818; background-color: #f8f8f8; font-weight: bold\">  </span><span style=\"color: #adadad; text-decoration-color: #adadad; background-color: #f8f8f8\"> 2 </span><span style=\"background-color: #f8f8f8\">                                                                                                              </span>\n",
       "<span style=\"color: #181818; text-decoration-color: #181818; background-color: #f8f8f8; font-weight: bold\">  </span><span style=\"color: #adadad; text-decoration-color: #adadad; background-color: #f8f8f8\"> 3 </span><span style=\"color: #008000; text-decoration-color: #008000; background-color: #f8f8f8; font-weight: bold\">import</span><span style=\"color: #000000; text-decoration-color: #000000; background-color: #f8f8f8\"> </span><span style=\"color: #0000ff; text-decoration-color: #0000ff; background-color: #f8f8f8; font-weight: bold\">inspect</span><span style=\"background-color: #f8f8f8\">                                                                                                </span>\n",
       "<span style=\"color: #181818; text-decoration-color: #181818; background-color: #f8f8f8; font-weight: bold\">  </span><span style=\"color: #adadad; text-decoration-color: #adadad; background-color: #f8f8f8\"> 4 </span><span style=\"color: #008000; text-decoration-color: #008000; background-color: #f8f8f8; font-weight: bold\">from</span><span style=\"color: #000000; text-decoration-color: #000000; background-color: #f8f8f8\"> </span><span style=\"color: #0000ff; text-decoration-color: #0000ff; background-color: #f8f8f8; font-weight: bold\">rich.console</span><span style=\"color: #000000; text-decoration-color: #000000; background-color: #f8f8f8\"> </span><span style=\"color: #008000; text-decoration-color: #008000; background-color: #f8f8f8; font-weight: bold\">import</span><span style=\"color: #000000; text-decoration-color: #000000; background-color: #f8f8f8\"> Console</span><span style=\"background-color: #f8f8f8\">                                                                              </span>\n",
       "<span style=\"color: #181818; text-decoration-color: #181818; background-color: #f8f8f8; font-weight: bold\">  </span><span style=\"color: #adadad; text-decoration-color: #adadad; background-color: #f8f8f8\"> 5 </span><span style=\"color: #008000; text-decoration-color: #008000; background-color: #f8f8f8; font-weight: bold\">from</span><span style=\"color: #000000; text-decoration-color: #000000; background-color: #f8f8f8\"> </span><span style=\"color: #0000ff; text-decoration-color: #0000ff; background-color: #f8f8f8; font-weight: bold\">rich.syntax</span><span style=\"color: #000000; text-decoration-color: #000000; background-color: #f8f8f8\"> </span><span style=\"color: #008000; text-decoration-color: #008000; background-color: #f8f8f8; font-weight: bold\">import</span><span style=\"color: #000000; text-decoration-color: #000000; background-color: #f8f8f8\"> Syntax</span><span style=\"background-color: #f8f8f8\">                                                                                </span>\n",
       "<span style=\"color: #181818; text-decoration-color: #181818; background-color: #f8f8f8; font-weight: bold\">  </span><span style=\"color: #adadad; text-decoration-color: #adadad; background-color: #f8f8f8\"> 6 </span><span style=\"background-color: #f8f8f8\">                                                                                                              </span>\n",
       "<span style=\"color: #181818; text-decoration-color: #181818; background-color: #f8f8f8; font-weight: bold\">  </span><span style=\"color: #adadad; text-decoration-color: #adadad; background-color: #f8f8f8\"> 7 </span><span style=\"background-color: #f8f8f8\">                                                                                                              </span>\n",
       "<span style=\"color: #181818; text-decoration-color: #181818; background-color: #f8f8f8; font-weight: bold\">  </span><span style=\"color: #adadad; text-decoration-color: #adadad; background-color: #f8f8f8\"> 8 </span><span style=\"color: #008000; text-decoration-color: #008000; background-color: #f8f8f8; font-weight: bold\">def</span><span style=\"color: #000000; text-decoration-color: #000000; background-color: #f8f8f8\"> </span><span style=\"color: #0000ff; text-decoration-color: #0000ff; background-color: #f8f8f8\">lst</span><span style=\"color: #000000; text-decoration-color: #000000; background-color: #f8f8f8\">(name, lexer</span><span style=\"color: #666666; text-decoration-color: #666666; background-color: #f8f8f8\">=</span><span style=\"color: #ba2121; text-decoration-color: #ba2121; background-color: #f8f8f8\">'python'</span><span style=\"color: #000000; text-decoration-color: #000000; background-color: #f8f8f8\">, theme</span><span style=\"color: #666666; text-decoration-color: #666666; background-color: #f8f8f8\">=</span><span style=\"color: #ba2121; text-decoration-color: #ba2121; background-color: #f8f8f8\">'default'</span><span style=\"color: #000000; text-decoration-color: #000000; background-color: #f8f8f8\">, line_numbers</span><span style=\"color: #666666; text-decoration-color: #666666; background-color: #f8f8f8\">=</span><span style=\"color: #008000; text-decoration-color: #008000; background-color: #f8f8f8; font-weight: bold\">True</span><span style=\"color: #000000; text-decoration-color: #000000; background-color: #f8f8f8\">) </span><span style=\"color: #666666; text-decoration-color: #666666; background-color: #f8f8f8\">-&gt;</span><span style=\"color: #000000; text-decoration-color: #000000; background-color: #f8f8f8\"> </span><span style=\"color: #008000; text-decoration-color: #008000; background-color: #f8f8f8; font-weight: bold\">None</span><span style=\"color: #000000; text-decoration-color: #000000; background-color: #f8f8f8\">:</span><span style=\"background-color: #f8f8f8\">                                    </span>\n",
       "<span style=\"color: #181818; text-decoration-color: #181818; background-color: #f8f8f8; font-weight: bold\">  </span><span style=\"color: #adadad; text-decoration-color: #adadad; background-color: #f8f8f8\"> 9 </span><span style=\"color: #bbbbbb; text-decoration-color: #bbbbbb; background-color: #f8f8f8\">    </span><span style=\"color: #ba2121; text-decoration-color: #ba2121; background-color: #f8f8f8; font-style: italic\">\"\"\"Print a source code listing for the named Python object.\"\"\"</span><span style=\"background-color: #f8f8f8\">                                            </span>\n",
       "<span style=\"color: #181818; text-decoration-color: #181818; background-color: #f8f8f8; font-weight: bold\">  </span><span style=\"color: #adadad; text-decoration-color: #adadad; background-color: #f8f8f8\">10 </span><span style=\"background-color: #f8f8f8\">                                                                                                              </span>\n",
       "<span style=\"color: #181818; text-decoration-color: #181818; background-color: #f8f8f8; font-weight: bold\">  </span><span style=\"color: #adadad; text-decoration-color: #adadad; background-color: #f8f8f8\">11 </span><span style=\"color: #000000; text-decoration-color: #000000; background-color: #f8f8f8\">    code </span><span style=\"color: #666666; text-decoration-color: #666666; background-color: #f8f8f8\">=</span><span style=\"color: #000000; text-decoration-color: #000000; background-color: #f8f8f8\"> inspect</span><span style=\"color: #666666; text-decoration-color: #666666; background-color: #f8f8f8\">.</span><span style=\"color: #000000; text-decoration-color: #000000; background-color: #f8f8f8\">getsource(name)</span><span style=\"background-color: #f8f8f8\">                                                                            </span>\n",
       "<span style=\"color: #181818; text-decoration-color: #181818; background-color: #f8f8f8; font-weight: bold\">  </span><span style=\"color: #adadad; text-decoration-color: #adadad; background-color: #f8f8f8\">12 </span><span style=\"color: #000000; text-decoration-color: #000000; background-color: #f8f8f8\">    syntax </span><span style=\"color: #666666; text-decoration-color: #666666; background-color: #f8f8f8\">=</span><span style=\"color: #000000; text-decoration-color: #000000; background-color: #f8f8f8\"> Syntax(code, lexer</span><span style=\"color: #666666; text-decoration-color: #666666; background-color: #f8f8f8\">=</span><span style=\"color: #000000; text-decoration-color: #000000; background-color: #f8f8f8\">lexer, theme</span><span style=\"color: #666666; text-decoration-color: #666666; background-color: #f8f8f8\">=</span><span style=\"color: #000000; text-decoration-color: #000000; background-color: #f8f8f8\">theme, line_numbers</span><span style=\"color: #666666; text-decoration-color: #666666; background-color: #f8f8f8\">=</span><span style=\"color: #000000; text-decoration-color: #000000; background-color: #f8f8f8\">line_numbers)</span><span style=\"background-color: #f8f8f8\">                                </span>\n",
       "<span style=\"color: #181818; text-decoration-color: #181818; background-color: #f8f8f8; font-weight: bold\">  </span><span style=\"color: #adadad; text-decoration-color: #adadad; background-color: #f8f8f8\">13 </span><span style=\"color: #000000; text-decoration-color: #000000; background-color: #f8f8f8\">    console </span><span style=\"color: #666666; text-decoration-color: #666666; background-color: #f8f8f8\">=</span><span style=\"color: #000000; text-decoration-color: #000000; background-color: #f8f8f8\"> Console()</span><span style=\"background-color: #f8f8f8\">                                                                                       </span>\n",
       "<span style=\"color: #181818; text-decoration-color: #181818; background-color: #f8f8f8; font-weight: bold\">  </span><span style=\"color: #adadad; text-decoration-color: #adadad; background-color: #f8f8f8\">14 </span><span style=\"color: #000000; text-decoration-color: #000000; background-color: #f8f8f8\">    console</span><span style=\"color: #666666; text-decoration-color: #666666; background-color: #f8f8f8\">.</span><span style=\"color: #000000; text-decoration-color: #000000; background-color: #f8f8f8\">print(syntax)</span><span style=\"background-color: #f8f8f8\">                                                                                     </span>\n",
       "<span style=\"color: #181818; text-decoration-color: #181818; background-color: #f8f8f8; font-weight: bold\">  </span><span style=\"color: #adadad; text-decoration-color: #adadad; background-color: #f8f8f8\">15 </span><span style=\"background-color: #f8f8f8\">                                                                                                              </span>\n",
       "</pre>\n"
      ],
      "text/plain": [
       "\u001b[1;38;2;24;24;24;48;2;248;248;248m  \u001b[0m\u001b[38;2;173;173;173;48;2;248;248;248m 1 \u001b[0m\u001b[3;38;2;186;33;33;48;2;248;248;248m\"\"\"This module lists the source code for Python objects.\"\"\"\u001b[0m\u001b[48;2;248;248;248m                                                   \u001b[0m\n",
       "\u001b[1;38;2;24;24;24;48;2;248;248;248m  \u001b[0m\u001b[38;2;173;173;173;48;2;248;248;248m 2 \u001b[0m\u001b[48;2;248;248;248m                                                                                                              \u001b[0m\n",
       "\u001b[1;38;2;24;24;24;48;2;248;248;248m  \u001b[0m\u001b[38;2;173;173;173;48;2;248;248;248m 3 \u001b[0m\u001b[1;38;2;0;128;0;48;2;248;248;248mimport\u001b[0m\u001b[38;2;0;0;0;48;2;248;248;248m \u001b[0m\u001b[1;38;2;0;0;255;48;2;248;248;248minspect\u001b[0m\u001b[48;2;248;248;248m                                                                                                \u001b[0m\n",
       "\u001b[1;38;2;24;24;24;48;2;248;248;248m  \u001b[0m\u001b[38;2;173;173;173;48;2;248;248;248m 4 \u001b[0m\u001b[1;38;2;0;128;0;48;2;248;248;248mfrom\u001b[0m\u001b[38;2;0;0;0;48;2;248;248;248m \u001b[0m\u001b[1;38;2;0;0;255;48;2;248;248;248mrich\u001b[0m\u001b[1;38;2;0;0;255;48;2;248;248;248m.\u001b[0m\u001b[1;38;2;0;0;255;48;2;248;248;248mconsole\u001b[0m\u001b[38;2;0;0;0;48;2;248;248;248m \u001b[0m\u001b[1;38;2;0;128;0;48;2;248;248;248mimport\u001b[0m\u001b[38;2;0;0;0;48;2;248;248;248m \u001b[0m\u001b[38;2;0;0;0;48;2;248;248;248mConsole\u001b[0m\u001b[48;2;248;248;248m                                                                              \u001b[0m\n",
       "\u001b[1;38;2;24;24;24;48;2;248;248;248m  \u001b[0m\u001b[38;2;173;173;173;48;2;248;248;248m 5 \u001b[0m\u001b[1;38;2;0;128;0;48;2;248;248;248mfrom\u001b[0m\u001b[38;2;0;0;0;48;2;248;248;248m \u001b[0m\u001b[1;38;2;0;0;255;48;2;248;248;248mrich\u001b[0m\u001b[1;38;2;0;0;255;48;2;248;248;248m.\u001b[0m\u001b[1;38;2;0;0;255;48;2;248;248;248msyntax\u001b[0m\u001b[38;2;0;0;0;48;2;248;248;248m \u001b[0m\u001b[1;38;2;0;128;0;48;2;248;248;248mimport\u001b[0m\u001b[38;2;0;0;0;48;2;248;248;248m \u001b[0m\u001b[38;2;0;0;0;48;2;248;248;248mSyntax\u001b[0m\u001b[48;2;248;248;248m                                                                                \u001b[0m\n",
       "\u001b[1;38;2;24;24;24;48;2;248;248;248m  \u001b[0m\u001b[38;2;173;173;173;48;2;248;248;248m 6 \u001b[0m\u001b[48;2;248;248;248m                                                                                                              \u001b[0m\n",
       "\u001b[1;38;2;24;24;24;48;2;248;248;248m  \u001b[0m\u001b[38;2;173;173;173;48;2;248;248;248m 7 \u001b[0m\u001b[48;2;248;248;248m                                                                                                              \u001b[0m\n",
       "\u001b[1;38;2;24;24;24;48;2;248;248;248m  \u001b[0m\u001b[38;2;173;173;173;48;2;248;248;248m 8 \u001b[0m\u001b[1;38;2;0;128;0;48;2;248;248;248mdef\u001b[0m\u001b[38;2;0;0;0;48;2;248;248;248m \u001b[0m\u001b[38;2;0;0;255;48;2;248;248;248mlst\u001b[0m\u001b[38;2;0;0;0;48;2;248;248;248m(\u001b[0m\u001b[38;2;0;0;0;48;2;248;248;248mname\u001b[0m\u001b[38;2;0;0;0;48;2;248;248;248m,\u001b[0m\u001b[38;2;0;0;0;48;2;248;248;248m \u001b[0m\u001b[38;2;0;0;0;48;2;248;248;248mlexer\u001b[0m\u001b[38;2;102;102;102;48;2;248;248;248m=\u001b[0m\u001b[38;2;186;33;33;48;2;248;248;248m'\u001b[0m\u001b[38;2;186;33;33;48;2;248;248;248mpython\u001b[0m\u001b[38;2;186;33;33;48;2;248;248;248m'\u001b[0m\u001b[38;2;0;0;0;48;2;248;248;248m,\u001b[0m\u001b[38;2;0;0;0;48;2;248;248;248m \u001b[0m\u001b[38;2;0;0;0;48;2;248;248;248mtheme\u001b[0m\u001b[38;2;102;102;102;48;2;248;248;248m=\u001b[0m\u001b[38;2;186;33;33;48;2;248;248;248m'\u001b[0m\u001b[38;2;186;33;33;48;2;248;248;248mdefault\u001b[0m\u001b[38;2;186;33;33;48;2;248;248;248m'\u001b[0m\u001b[38;2;0;0;0;48;2;248;248;248m,\u001b[0m\u001b[38;2;0;0;0;48;2;248;248;248m \u001b[0m\u001b[38;2;0;0;0;48;2;248;248;248mline_numbers\u001b[0m\u001b[38;2;102;102;102;48;2;248;248;248m=\u001b[0m\u001b[1;38;2;0;128;0;48;2;248;248;248mTrue\u001b[0m\u001b[38;2;0;0;0;48;2;248;248;248m)\u001b[0m\u001b[38;2;0;0;0;48;2;248;248;248m \u001b[0m\u001b[38;2;102;102;102;48;2;248;248;248m-\u001b[0m\u001b[38;2;102;102;102;48;2;248;248;248m>\u001b[0m\u001b[38;2;0;0;0;48;2;248;248;248m \u001b[0m\u001b[1;38;2;0;128;0;48;2;248;248;248mNone\u001b[0m\u001b[38;2;0;0;0;48;2;248;248;248m:\u001b[0m\u001b[48;2;248;248;248m                                    \u001b[0m\n",
       "\u001b[1;38;2;24;24;24;48;2;248;248;248m  \u001b[0m\u001b[38;2;173;173;173;48;2;248;248;248m 9 \u001b[0m\u001b[38;2;187;187;187;48;2;248;248;248m    \u001b[0m\u001b[3;38;2;186;33;33;48;2;248;248;248m\"\"\"Print a source code listing for the named Python object.\"\"\"\u001b[0m\u001b[48;2;248;248;248m                                            \u001b[0m\n",
       "\u001b[1;38;2;24;24;24;48;2;248;248;248m  \u001b[0m\u001b[38;2;173;173;173;48;2;248;248;248m10 \u001b[0m\u001b[48;2;248;248;248m                                                                                                              \u001b[0m\n",
       "\u001b[1;38;2;24;24;24;48;2;248;248;248m  \u001b[0m\u001b[38;2;173;173;173;48;2;248;248;248m11 \u001b[0m\u001b[38;2;0;0;0;48;2;248;248;248m    \u001b[0m\u001b[38;2;0;0;0;48;2;248;248;248mcode\u001b[0m\u001b[38;2;0;0;0;48;2;248;248;248m \u001b[0m\u001b[38;2;102;102;102;48;2;248;248;248m=\u001b[0m\u001b[38;2;0;0;0;48;2;248;248;248m \u001b[0m\u001b[38;2;0;0;0;48;2;248;248;248minspect\u001b[0m\u001b[38;2;102;102;102;48;2;248;248;248m.\u001b[0m\u001b[38;2;0;0;0;48;2;248;248;248mgetsource\u001b[0m\u001b[38;2;0;0;0;48;2;248;248;248m(\u001b[0m\u001b[38;2;0;0;0;48;2;248;248;248mname\u001b[0m\u001b[38;2;0;0;0;48;2;248;248;248m)\u001b[0m\u001b[48;2;248;248;248m                                                                            \u001b[0m\n",
       "\u001b[1;38;2;24;24;24;48;2;248;248;248m  \u001b[0m\u001b[38;2;173;173;173;48;2;248;248;248m12 \u001b[0m\u001b[38;2;0;0;0;48;2;248;248;248m    \u001b[0m\u001b[38;2;0;0;0;48;2;248;248;248msyntax\u001b[0m\u001b[38;2;0;0;0;48;2;248;248;248m \u001b[0m\u001b[38;2;102;102;102;48;2;248;248;248m=\u001b[0m\u001b[38;2;0;0;0;48;2;248;248;248m \u001b[0m\u001b[38;2;0;0;0;48;2;248;248;248mSyntax\u001b[0m\u001b[38;2;0;0;0;48;2;248;248;248m(\u001b[0m\u001b[38;2;0;0;0;48;2;248;248;248mcode\u001b[0m\u001b[38;2;0;0;0;48;2;248;248;248m,\u001b[0m\u001b[38;2;0;0;0;48;2;248;248;248m \u001b[0m\u001b[38;2;0;0;0;48;2;248;248;248mlexer\u001b[0m\u001b[38;2;102;102;102;48;2;248;248;248m=\u001b[0m\u001b[38;2;0;0;0;48;2;248;248;248mlexer\u001b[0m\u001b[38;2;0;0;0;48;2;248;248;248m,\u001b[0m\u001b[38;2;0;0;0;48;2;248;248;248m \u001b[0m\u001b[38;2;0;0;0;48;2;248;248;248mtheme\u001b[0m\u001b[38;2;102;102;102;48;2;248;248;248m=\u001b[0m\u001b[38;2;0;0;0;48;2;248;248;248mtheme\u001b[0m\u001b[38;2;0;0;0;48;2;248;248;248m,\u001b[0m\u001b[38;2;0;0;0;48;2;248;248;248m \u001b[0m\u001b[38;2;0;0;0;48;2;248;248;248mline_numbers\u001b[0m\u001b[38;2;102;102;102;48;2;248;248;248m=\u001b[0m\u001b[38;2;0;0;0;48;2;248;248;248mline_numbers\u001b[0m\u001b[38;2;0;0;0;48;2;248;248;248m)\u001b[0m\u001b[48;2;248;248;248m                                \u001b[0m\n",
       "\u001b[1;38;2;24;24;24;48;2;248;248;248m  \u001b[0m\u001b[38;2;173;173;173;48;2;248;248;248m13 \u001b[0m\u001b[38;2;0;0;0;48;2;248;248;248m    \u001b[0m\u001b[38;2;0;0;0;48;2;248;248;248mconsole\u001b[0m\u001b[38;2;0;0;0;48;2;248;248;248m \u001b[0m\u001b[38;2;102;102;102;48;2;248;248;248m=\u001b[0m\u001b[38;2;0;0;0;48;2;248;248;248m \u001b[0m\u001b[38;2;0;0;0;48;2;248;248;248mConsole\u001b[0m\u001b[38;2;0;0;0;48;2;248;248;248m(\u001b[0m\u001b[38;2;0;0;0;48;2;248;248;248m)\u001b[0m\u001b[48;2;248;248;248m                                                                                       \u001b[0m\n",
       "\u001b[1;38;2;24;24;24;48;2;248;248;248m  \u001b[0m\u001b[38;2;173;173;173;48;2;248;248;248m14 \u001b[0m\u001b[38;2;0;0;0;48;2;248;248;248m    \u001b[0m\u001b[38;2;0;0;0;48;2;248;248;248mconsole\u001b[0m\u001b[38;2;102;102;102;48;2;248;248;248m.\u001b[0m\u001b[38;2;0;0;0;48;2;248;248;248mprint\u001b[0m\u001b[38;2;0;0;0;48;2;248;248;248m(\u001b[0m\u001b[38;2;0;0;0;48;2;248;248;248msyntax\u001b[0m\u001b[38;2;0;0;0;48;2;248;248;248m)\u001b[0m\u001b[48;2;248;248;248m                                                                                     \u001b[0m\n",
       "\u001b[1;38;2;24;24;24;48;2;248;248;248m  \u001b[0m\u001b[38;2;173;173;173;48;2;248;248;248m15 \u001b[0m\u001b[48;2;248;248;248m                                                                                                              \u001b[0m\n"
      ]
     },
     "metadata": {},
     "output_type": "display_data"
    }
   ],
   "source": [
    "lst(l.list_python)"
   ]
  }
 ],
 "metadata": {
  "kernelspec": {
   "display_name": "Python 3 (ipykernel)",
   "language": "python",
   "name": "python3"
  },
  "language_info": {
   "codemirror_mode": {
    "name": "ipython",
    "version": 3
   },
   "file_extension": ".py",
   "mimetype": "text/x-python",
   "name": "python",
   "nbconvert_exporter": "python",
   "pygments_lexer": "ipython3",
   "version": "3.13.1"
  }
 },
 "nbformat": 4,
 "nbformat_minor": 5
}
